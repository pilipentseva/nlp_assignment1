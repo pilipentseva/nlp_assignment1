{
 "cells": [
  {
   "cell_type": "markdown",
   "id": "8451f9c0",
   "metadata": {},
   "source": [
    "# Assignment 1"
   ]
  },
  {
   "cell_type": "markdown",
   "id": "26c0c553",
   "metadata": {},
   "source": [
    "That is the first group assignment for NLP course at CEU. This Assignment is based on the Titanic dataset and lecture notes of the course."
   ]
  },
  {
   "cell_type": "code",
   "execution_count": 99,
   "id": "e156221b",
   "metadata": {},
   "outputs": [],
   "source": [
    "#Import the needed libraries\n",
    "import pandas as pd\n",
    "import numpy as np\n",
    "import matplotlib.pyplot as plt\n",
    "import seaborn as sns\n",
    "from sklearn.model_selection import train_test_split\n",
    "from sklearn.linear_model import LinearRegression, Ridge, Lasso\n",
    "from sklearn import preprocessing\n",
    "import os\n",
    "import seaborn as sns\n",
    "from plotnine import *"
   ]
  },
  {
   "cell_type": "code",
   "execution_count": 100,
   "id": "0d0774cd",
   "metadata": {},
   "outputs": [],
   "source": [
    "#Data set already divided in train and test, import both of them\n",
    "train = pd.read_csv('train.csv')\n",
    "test = pd.read_csv('test.csv')"
   ]
  },
  {
   "cell_type": "code",
   "execution_count": 101,
   "id": "0df70c5a",
   "metadata": {},
   "outputs": [
    {
     "data": {
      "text/plain": [
       "Index(['PassengerId', 'Survived', 'Pclass', 'Name', 'Sex', 'Age', 'SibSp',\n",
       "       'Parch', 'Ticket', 'Fare', 'Cabin', 'Embarked'],\n",
       "      dtype='object')"
      ]
     },
     "execution_count": 101,
     "metadata": {},
     "output_type": "execute_result"
    }
   ],
   "source": [
    "#look which variables I already have\n",
    "train.columns"
   ]
  },
  {
   "cell_type": "markdown",
   "id": "6a0b2523",
   "metadata": {},
   "source": [
    "# 1. Engineer at least two more features to include in your model . For each feature perform visualizations and interpret them"
   ]
  },
  {
   "cell_type": "markdown",
   "id": "97d6b9dd",
   "metadata": {},
   "source": [
    "I decided to genereate the following features: title and variable which will describe whether person was alone or not."
   ]
  },
  {
   "cell_type": "markdown",
   "id": "bf2b9054",
   "metadata": {},
   "source": [
    "# Title"
   ]
  },
  {
   "cell_type": "markdown",
   "id": "a60e5942",
   "metadata": {},
   "source": [
    "Title can be extracted from the Name column. Title may be important. For example, it can provide information wether a person is married or not and as a result has a higher social status."
   ]
  },
  {
   "cell_type": "code",
   "execution_count": 102,
   "id": "b1dd0c8f",
   "metadata": {},
   "outputs": [
    {
     "data": {
      "text/plain": [
       "0                                Braund, Mr. Owen Harris\n",
       "1      Cumings, Mrs. John Bradley (Florence Briggs Th...\n",
       "2                                 Heikkinen, Miss. Laina\n",
       "3           Futrelle, Mrs. Jacques Heath (Lily May Peel)\n",
       "4                               Allen, Mr. William Henry\n",
       "                             ...                        \n",
       "886                                Montvila, Rev. Juozas\n",
       "887                         Graham, Miss. Margaret Edith\n",
       "888             Johnston, Miss. Catherine Helen \"Carrie\"\n",
       "889                                Behr, Mr. Karl Howell\n",
       "890                                  Dooley, Mr. Patrick\n",
       "Name: Name, Length: 891, dtype: object"
      ]
     },
     "execution_count": 102,
     "metadata": {},
     "output_type": "execute_result"
    }
   ],
   "source": [
    "train.Name #look how this column Name looks like"
   ]
  },
  {
   "cell_type": "markdown",
   "id": "bcad7ac8",
   "metadata": {},
   "source": [
    "From the example above I can see that in Name column first goes the name, after which there is a \",\" sign. Then I want to split every value by \",\" and take the second value (fist in Python). Then I use the fact that titles are separated by the dot after - I will utilize it to extact titles by splitting by \".\" and taking the first (zero in Python) value. And I will use strip () to remove all the the leading and trailing spaces from a string.."
   ]
  },
  {
   "cell_type": "code",
   "execution_count": 103,
   "id": "f9eeabb5",
   "metadata": {},
   "outputs": [],
   "source": [
    "train['Title'] = train.Name.apply(lambda x: x.split(',')[1].split('.')[0].strip())\n",
    "test['Title'] = test.Name.apply(lambda x: x.split(',')[1].split('.')[0].strip()) # I do feature engineering for both parts of dataset"
   ]
  },
  {
   "cell_type": "code",
   "execution_count": 104,
   "id": "1e1f457d",
   "metadata": {
    "scrolled": true
   },
   "outputs": [
    {
     "data": {
      "text/plain": [
       "0        Mr\n",
       "1       Mrs\n",
       "2      Miss\n",
       "3       Mrs\n",
       "4        Mr\n",
       "       ... \n",
       "886     Rev\n",
       "887    Miss\n",
       "888    Miss\n",
       "889      Mr\n",
       "890      Mr\n",
       "Name: Title, Length: 891, dtype: object"
      ]
     },
     "execution_count": 104,
     "metadata": {},
     "output_type": "execute_result"
    }
   ],
   "source": [
    "train['Title']"
   ]
  },
  {
   "cell_type": "code",
   "execution_count": 105,
   "id": "2593f43d",
   "metadata": {},
   "outputs": [
    {
     "data": {
      "text/plain": [
       "count     891\n",
       "unique     17\n",
       "top        Mr\n",
       "freq      517\n",
       "Name: Title, dtype: object"
      ]
     },
     "execution_count": 105,
     "metadata": {},
     "output_type": "execute_result"
    }
   ],
   "source": [
    "train['Title'].describe()"
   ]
  },
  {
   "cell_type": "code",
   "execution_count": 106,
   "id": "4481b8b3",
   "metadata": {},
   "outputs": [
    {
     "data": {
      "text/plain": [
       "array(['Mr', 'Mrs', 'Miss', 'Master', 'Don', 'Rev', 'Dr', 'Mme', 'Ms',\n",
       "       'Major', 'Lady', 'Sir', 'Mlle', 'Col', 'Capt', 'the Countess',\n",
       "       'Jonkheer'], dtype=object)"
      ]
     },
     "execution_count": 106,
     "metadata": {},
     "output_type": "execute_result"
    }
   ],
   "source": [
    "train['Title'].unique() #check wether all titles extracted are indeed titles - looks like"
   ]
  },
  {
   "cell_type": "code",
   "execution_count": 107,
   "id": "be99b228",
   "metadata": {},
   "outputs": [
    {
     "data": {
      "text/plain": [
       "array(['Mr', 'Mrs', 'Miss', 'Master', 'Ms', 'Col', 'Rev', 'Dr', 'Dona'],\n",
       "      dtype=object)"
      ]
     },
     "execution_count": 107,
     "metadata": {},
     "output_type": "execute_result"
    }
   ],
   "source": [
    "test['Title'].unique() #check for test as well just in case some titles got missed during the split"
   ]
  },
  {
   "cell_type": "code",
   "execution_count": 108,
   "id": "ff0b4240",
   "metadata": {},
   "outputs": [
    {
     "data": {
      "text/plain": [
       "<AxesSubplot:xlabel='Title', ylabel='count'>"
      ]
     },
     "execution_count": 108,
     "metadata": {},
     "output_type": "execute_result"
    },
    {
     "data": {
      "image/png": "[encoded data removed]",
      "text/plain": [
       "<Figure size 432x288 with 1 Axes>"
      ]
     },
     "metadata": {
      "needs_background": "light"
     },
     "output_type": "display_data"
    }
   ],
   "source": [
    "#Now let's look at count plot of Title column\n",
    "sns.countplot(x ='Title', data=train)\n"
   ]
  },
  {
   "cell_type": "markdown",
   "id": "51bda61a",
   "metadata": {},
   "source": [
    "As I can see, some titles are much more often to see. So, it makes sense to group some titles together. "
   ]
  },
  {
   "cell_type": "code",
   "execution_count": 109,
   "id": "d631705b",
   "metadata": {},
   "outputs": [],
   "source": [
    "train['Title'] = train['Title'].replace(['Lady', 'the Countess','Capt', 'Col','Don', 'Dr', 'Major', 'Rev', 'Sir', 'Jonkheer', 'Dona'], 'Rare')\n",
    "train['Title'] = train['Title'].replace('Mlle', 'Miss')\n",
    "train['Title'] = train['Title'].replace('Ms', 'Miss')\n",
    "train['Title'] = train['Title'].replace('Mme', 'Mrs')\n",
    "    \n"
   ]
  },
  {
   "cell_type": "code",
   "execution_count": 110,
   "id": "412f90ab",
   "metadata": {
    "scrolled": true
   },
   "outputs": [
    {
     "data": {
      "text/plain": [
       "<AxesSubplot:xlabel='Title', ylabel='count'>"
      ]
     },
     "execution_count": 110,
     "metadata": {},
     "output_type": "execute_result"
    },
    {
     "data": {
      "image/png": "[encoded data removed]",
      "text/plain": [
       "<Figure size 432x288 with 1 Axes>"
      ]
     },
     "metadata": {
      "needs_background": "light"
     },
     "output_type": "display_data"
    }
   ],
   "source": [
    "#Let's look at countplot again\n",
    "sns.countplot(x ='Title', data=train)"
   ]
  },
  {
   "cell_type": "markdown",
   "id": "28038520",
   "metadata": {},
   "source": [
    "As I can see, Mr is still the most common title. Rare titles even combined for a small proportion of the titles present on board"
   ]
  },
  {
   "cell_type": "code",
   "execution_count": 111,
   "id": "6989e7ee",
   "metadata": {},
   "outputs": [
    {
     "data": {
      "text/html": [
       "<div>\n",
       "<style scoped>\n",
       "    .dataframe tbody tr th:only-of-type {\n",
       "        vertical-align: middle;\n",
       "    }\n",
       "\n",
       "    .dataframe tbody tr th {\n",
       "        vertical-align: top;\n",
       "    }\n",
       "\n",
       "    .dataframe thead th {\n",
       "        text-align: right;\n",
       "    }\n",
       "</style>\n",
       "<table border=\"1\" class=\"dataframe\">\n",
       "  <thead>\n",
       "    <tr style=\"text-align: right;\">\n",
       "      <th></th>\n",
       "      <th>count</th>\n",
       "      <th>mean</th>\n",
       "      <th>std</th>\n",
       "      <th>min</th>\n",
       "      <th>25%</th>\n",
       "      <th>50%</th>\n",
       "      <th>75%</th>\n",
       "      <th>max</th>\n",
       "    </tr>\n",
       "    <tr>\n",
       "      <th>Title</th>\n",
       "      <th></th>\n",
       "      <th></th>\n",
       "      <th></th>\n",
       "      <th></th>\n",
       "      <th></th>\n",
       "      <th></th>\n",
       "      <th></th>\n",
       "      <th></th>\n",
       "    </tr>\n",
       "  </thead>\n",
       "  <tbody>\n",
       "    <tr>\n",
       "      <th>Master</th>\n",
       "      <td>40.0</td>\n",
       "      <td>0.575000</td>\n",
       "      <td>0.500641</td>\n",
       "      <td>0.0</td>\n",
       "      <td>0.0</td>\n",
       "      <td>1.0</td>\n",
       "      <td>1.0</td>\n",
       "      <td>1.0</td>\n",
       "    </tr>\n",
       "    <tr>\n",
       "      <th>Miss</th>\n",
       "      <td>185.0</td>\n",
       "      <td>0.702703</td>\n",
       "      <td>0.458309</td>\n",
       "      <td>0.0</td>\n",
       "      <td>0.0</td>\n",
       "      <td>1.0</td>\n",
       "      <td>1.0</td>\n",
       "      <td>1.0</td>\n",
       "    </tr>\n",
       "    <tr>\n",
       "      <th>Mr</th>\n",
       "      <td>517.0</td>\n",
       "      <td>0.156673</td>\n",
       "      <td>0.363844</td>\n",
       "      <td>0.0</td>\n",
       "      <td>0.0</td>\n",
       "      <td>0.0</td>\n",
       "      <td>0.0</td>\n",
       "      <td>1.0</td>\n",
       "    </tr>\n",
       "    <tr>\n",
       "      <th>Mrs</th>\n",
       "      <td>126.0</td>\n",
       "      <td>0.793651</td>\n",
       "      <td>0.406300</td>\n",
       "      <td>0.0</td>\n",
       "      <td>1.0</td>\n",
       "      <td>1.0</td>\n",
       "      <td>1.0</td>\n",
       "      <td>1.0</td>\n",
       "    </tr>\n",
       "    <tr>\n",
       "      <th>Rare</th>\n",
       "      <td>23.0</td>\n",
       "      <td>0.347826</td>\n",
       "      <td>0.486985</td>\n",
       "      <td>0.0</td>\n",
       "      <td>0.0</td>\n",
       "      <td>0.0</td>\n",
       "      <td>1.0</td>\n",
       "      <td>1.0</td>\n",
       "    </tr>\n",
       "  </tbody>\n",
       "</table>\n",
       "</div>"
      ],
      "text/plain": [
       "        count      mean       std  min  25%  50%  75%  max\n",
       "Title                                                     \n",
       "Master   40.0  0.575000  0.500641  0.0  0.0  1.0  1.0  1.0\n",
       "Miss    185.0  0.702703  0.458309  0.0  0.0  1.0  1.0  1.0\n",
       "Mr      517.0  0.156673  0.363844  0.0  0.0  0.0  0.0  1.0\n",
       "Mrs     126.0  0.793651  0.406300  0.0  1.0  1.0  1.0  1.0\n",
       "Rare     23.0  0.347826  0.486985  0.0  0.0  0.0  1.0  1.0"
      ]
     },
     "execution_count": 111,
     "metadata": {},
     "output_type": "execute_result"
    }
   ],
   "source": [
    "# I also want to look at survival rate by titles\n",
    "# Survival rate by title group\n",
    "train.groupby(['Title'])['Survived'].describe()"
   ]
  },
  {
   "cell_type": "markdown",
   "id": "d7f1da5b",
   "metadata": {},
   "source": [
    "From the table enough I can say that titles Miss and Mrs were more likely to survive (which is not suprising since they are women). Mr has the lowest chance. And Rare titles also had a law probability to survive"
   ]
  },
  {
   "cell_type": "markdown",
   "id": "fe325ddd",
   "metadata": {},
   "source": [
    "# Family Size and Is Alone"
   ]
  },
  {
   "cell_type": "markdown",
   "id": "3c1b7948",
   "metadata": {},
   "source": [
    "Variable wether the person is alone might be important because perhaps it allowed the passenger to fastly be evacuated because he didn't need to look for his family friends or family and just proceeded to evacuation. To obtain this variable, we first need to create family size variable which is obtained from siblings + spouse variable (SibSp) and parents + children variable (Parch)"
   ]
  },
  {
   "cell_type": "code",
   "execution_count": 118,
   "id": "fe2e031f",
   "metadata": {},
   "outputs": [],
   "source": [
    "#Generate variable family size\n",
    "train['FamilySize'] = train['SibSp'] + train['Parch'] + 1 #i add 1 because i need to count person for whom I calculate as well\n",
    "test['FamilySize'] = test['SibSp'] + test['Parch'] + 1 #do it for test as well"
   ]
  },
  {
   "cell_type": "code",
   "execution_count": 119,
   "id": "9f94cd68",
   "metadata": {},
   "outputs": [
    {
     "data": {
      "text/plain": [
       "<AxesSubplot:xlabel='FamilySize', ylabel='count'>"
      ]
     },
     "execution_count": 119,
     "metadata": {},
     "output_type": "execute_result"
    },
    {
     "data": {
      "image/png": "[encoded data removed]",
      "text/plain": [
       "<Figure size 432x288 with 1 Axes>"
      ]
     },
     "metadata": {
      "needs_background": "light"
     },
     "output_type": "display_data"
    }
   ],
   "source": [
    "#let's built countplot for this variable\n",
    "sns.countplot(x = 'FamilySize', data = train)"
   ]
  },
  {
   "cell_type": "markdown",
   "id": "929cb1b0",
   "metadata": {},
   "source": [
    "As we can, see it was most common to be alone. Then we have a high frequency of people whose family size on board is 2-3 and then for other size of family size the frequency is guite low\n"
   ]
  },
  {
   "cell_type": "code",
   "execution_count": 121,
   "id": "3aeebf8f",
   "metadata": {
    "scrolled": true
   },
   "outputs": [
    {
     "data": {
      "text/html": [
       "<div>\n",
       "<style scoped>\n",
       "    .dataframe tbody tr th:only-of-type {\n",
       "        vertical-align: middle;\n",
       "    }\n",
       "\n",
       "    .dataframe tbody tr th {\n",
       "        vertical-align: top;\n",
       "    }\n",
       "\n",
       "    .dataframe thead th {\n",
       "        text-align: right;\n",
       "    }\n",
       "</style>\n",
       "<table border=\"1\" class=\"dataframe\">\n",
       "  <thead>\n",
       "    <tr style=\"text-align: right;\">\n",
       "      <th></th>\n",
       "      <th>FamilySize</th>\n",
       "      <th>Survived</th>\n",
       "    </tr>\n",
       "  </thead>\n",
       "  <tbody>\n",
       "    <tr>\n",
       "      <th>3</th>\n",
       "      <td>4</td>\n",
       "      <td>0.724138</td>\n",
       "    </tr>\n",
       "    <tr>\n",
       "      <th>2</th>\n",
       "      <td>3</td>\n",
       "      <td>0.578431</td>\n",
       "    </tr>\n",
       "    <tr>\n",
       "      <th>1</th>\n",
       "      <td>2</td>\n",
       "      <td>0.552795</td>\n",
       "    </tr>\n",
       "    <tr>\n",
       "      <th>6</th>\n",
       "      <td>7</td>\n",
       "      <td>0.333333</td>\n",
       "    </tr>\n",
       "    <tr>\n",
       "      <th>0</th>\n",
       "      <td>1</td>\n",
       "      <td>0.303538</td>\n",
       "    </tr>\n",
       "    <tr>\n",
       "      <th>4</th>\n",
       "      <td>5</td>\n",
       "      <td>0.200000</td>\n",
       "    </tr>\n",
       "    <tr>\n",
       "      <th>5</th>\n",
       "      <td>6</td>\n",
       "      <td>0.136364</td>\n",
       "    </tr>\n",
       "    <tr>\n",
       "      <th>7</th>\n",
       "      <td>8</td>\n",
       "      <td>0.000000</td>\n",
       "    </tr>\n",
       "    <tr>\n",
       "      <th>8</th>\n",
       "      <td>11</td>\n",
       "      <td>0.000000</td>\n",
       "    </tr>\n",
       "  </tbody>\n",
       "</table>\n",
       "</div>"
      ],
      "text/plain": [
       "   FamilySize  Survived\n",
       "3           4  0.724138\n",
       "2           3  0.578431\n",
       "1           2  0.552795\n",
       "6           7  0.333333\n",
       "0           1  0.303538\n",
       "4           5  0.200000\n",
       "5           6  0.136364\n",
       "7           8  0.000000\n",
       "8          11  0.000000"
      ]
     },
     "execution_count": 121,
     "metadata": {},
     "output_type": "execute_result"
    }
   ],
   "source": [
    "#How survival looks for different family sizes\n",
    "train[['FamilySize', 'Survived']].groupby(['FamilySize'], as_index=False).mean().sort_values(by='Survived', ascending=False)\n"
   ]
  },
  {
   "cell_type": "markdown",
   "id": "1637c823",
   "metadata": {},
   "source": [
    "Surprisingly, among those who had a family size of 2-4 the chances to survive were higher. Perhaps it is because those families could afford to buy tickets for family members and were wealthier. Why then with number of family size of 5 and more chances of survival got lower? Perhaps 2-4 family members is also an indicator of middle and upper class. While 5 and more family size shows poorer families."
   ]
  },
  {
   "cell_type": "code",
   "execution_count": 136,
   "id": "9d6e9c7d",
   "metadata": {},
   "outputs": [],
   "source": [
    "#Now let's create IsAlone variable if person was on Titanic without family members\n",
    "train['IsAlone'] = 0\n",
    "train.loc[train['FamilySize'] == 1, 'IsAlone'] = 1\n",
    "test['IsAlone'] = 0 #same for test\n",
    "test.loc[train['FamilySize'] == 1, 'IsAlone'] = 1\n"
   ]
  },
  {
   "cell_type": "code",
   "execution_count": 140,
   "id": "d10c57cf",
   "metadata": {
    "scrolled": true
   },
   "outputs": [
    {
     "data": {
      "text/plain": [
       "<AxesSubplot:xlabel='IsAlone', ylabel='count'>"
      ]
     },
     "execution_count": 140,
     "metadata": {},
     "output_type": "execute_result"
    },
    {
     "data": {
      "image/png": "[encoded data removed]",
      "text/plain": [
       "<Figure size 432x288 with 1 Axes>"
      ]
     },
     "metadata": {
      "needs_background": "light"
     },
     "output_type": "display_data"
    }
   ],
   "source": [
    "#Let's look at countplot\n",
    "sns.countplot(x = 'IsAlone', data = train)"
   ]
  },
  {
   "cell_type": "markdown",
   "id": "52337466",
   "metadata": {},
   "source": [
    "There are more people who were on Titanic alone"
   ]
  },
  {
   "cell_type": "code",
   "execution_count": 141,
   "id": "49aa4ae4",
   "metadata": {
    "scrolled": true
   },
   "outputs": [
    {
     "data": {
      "text/html": [
       "<div>\n",
       "<style scoped>\n",
       "    .dataframe tbody tr th:only-of-type {\n",
       "        vertical-align: middle;\n",
       "    }\n",
       "\n",
       "    .dataframe tbody tr th {\n",
       "        vertical-align: top;\n",
       "    }\n",
       "\n",
       "    .dataframe thead th {\n",
       "        text-align: right;\n",
       "    }\n",
       "</style>\n",
       "<table border=\"1\" class=\"dataframe\">\n",
       "  <thead>\n",
       "    <tr style=\"text-align: right;\">\n",
       "      <th></th>\n",
       "      <th>IsAlone</th>\n",
       "      <th>Survived</th>\n",
       "    </tr>\n",
       "  </thead>\n",
       "  <tbody>\n",
       "    <tr>\n",
       "      <th>0</th>\n",
       "      <td>0</td>\n",
       "      <td>0.505650</td>\n",
       "    </tr>\n",
       "    <tr>\n",
       "      <th>1</th>\n",
       "      <td>1</td>\n",
       "      <td>0.303538</td>\n",
       "    </tr>\n",
       "  </tbody>\n",
       "</table>\n",
       "</div>"
      ],
      "text/plain": [
       "   IsAlone  Survived\n",
       "0        0  0.505650\n",
       "1        1  0.303538"
      ]
     },
     "execution_count": 141,
     "metadata": {},
     "output_type": "execute_result"
    }
   ],
   "source": [
    "#Let's look at survival rate\n",
    "train[['IsAlone', 'Survived']].groupby(['IsAlone'], as_index=False).mean()"
   ]
  },
  {
   "cell_type": "markdown",
   "id": "a384b5b3",
   "metadata": {},
   "source": [
    "Indeed, for a person who is alone, the survival chances are higher"
   ]
  },
  {
   "cell_type": "markdown",
   "id": "1aadfccb",
   "metadata": {},
   "source": [
    "# 2. Can you think of possible interactions and polynomials potentially relevant for your model? If yes, do so"
   ]
  },
  {
   "cell_type": "code",
   "execution_count": 143,
   "id": "111388d3",
   "metadata": {},
   "outputs": [
    {
     "data": {
      "text/plain": [
       "Index(['PassengerId', 'Survived', 'Pclass', 'Name', 'Sex', 'Age', 'SibSp',\n",
       "       'Parch', 'Ticket', 'Fare', 'Cabin', 'Embarked', 'Title', 'FamilySize',\n",
       "       'IsAlone'],\n",
       "      dtype='object')"
      ]
     },
     "execution_count": 143,
     "metadata": {},
     "output_type": "execute_result"
    }
   ],
   "source": [
    "#Let's look at columns once again\n",
    "train.columns"
   ]
  },
  {
   "cell_type": "markdown",
   "id": "b3ec03c3",
   "metadata": {},
   "source": [
    "# Polinomials: age"
   ]
  },
  {
   "cell_type": "markdown",
   "id": "47f85fd0",
   "metadata": {},
   "source": [
    "There may be a non linear relationship between age and survival variable, so I want to include age squared"
   ]
  },
  {
   "cell_type": "code",
   "execution_count": 145,
   "id": "fde6b730",
   "metadata": {},
   "outputs": [],
   "source": [
    "train['Age_sq'] = train['Age']**2\n",
    "test['Age_sq'] = test['Age']**2"
   ]
  },
  {
   "cell_type": "markdown",
   "id": "5c1836be",
   "metadata": {},
   "source": [
    "# Interactions"
   ]
  },
  {
   "cell_type": "markdown",
   "id": "95008ab9",
   "metadata": {},
   "source": [
    "Potential interaction: class and sex (the effect of passenger class on survival may be different depending on gender of passenger)"
   ]
  },
  {
   "cell_type": "markdown",
   "id": "f82ed5ba",
   "metadata": {},
   "source": [
    "Let's check wether this interaction assumption is valid by looking at conditional means"
   ]
  },
  {
   "cell_type": "code",
   "execution_count": 158,
   "id": "c439e14f",
   "metadata": {},
   "outputs": [],
   "source": [
    "def diff_by_variables(train, factor_var, dummy_var):\n",
    "    stats = train.groupby([factor_var, dummy_var]).agg(\n",
    "        Mean=(\"Survived\", np.mean), sd=(\"Survived\", np.std), size=(\"Survived\", \"size\")\n",
    "    )\n",
    "    stats[\"se\"] = stats[\"sd\"] / stats[\"size\"] ** (1 / 2)\n",
    "    stats[\"Mean_l\"] = stats[\"Mean\"] - (1.96 * stats[\"se\"])\n",
    "    stats[\"Mean_u\"] = stats[\"Mean\"] + (1.96 * stats[\"se\"])\n",
    "    stats = stats.drop([\"sd\", \"size\"], axis=1).reset_index()\n",
    "    plot = (\n",
    "        ggplot(\n",
    "            stats,\n",
    "            aes(\n",
    "                stats.columns[0],\n",
    "                stats.columns[2],\n",
    "                fill=\"factor(\" + stats.columns[1] + \")\",\n",
    "            ),\n",
    "        )\n",
    "        + geom_bar(stat=\"identity\", position=position_dodge(width=0.9))\n",
    "        + geom_errorbar(\n",
    "            aes(ymin=\"Mean_l\", ymax=\"Mean_u\"),\n",
    "            position=position_dodge(width=0.9),\n",
    "            width=0.25,\n",
    "        )\n",
    "        + ylab(\"Mean Survived\")\n",
    "        + theme_bw()\n",
    "        + theme(\n",
    "            panel_grid_major=element_blank(),\n",
    "            panel_grid_minor=element_blank(),\n",
    "            panel_border=element_blank(),\n",
    "            axis_line=element_line(),\n",
    "        )\n",
    "        + scale_fill_grey()\n",
    "    )\n",
    "\n",
    "    return plot\n",
    "# definition of function is taken from Data Analysis by Gabor Bekes and Gabor Kezdi: https://github.com/gabors-data-analysis/da_case_studies"
   ]
  },
  {
   "cell_type": "code",
   "execution_count": 160,
   "id": "e394d0eb",
   "metadata": {},
   "outputs": [
    {
     "data": {
      "image/png": "[encoded data removed]",
      "text/plain": [
       "<Figure size 640x480 with 1 Axes>"
      ]
     },
     "metadata": {},
     "output_type": "display_data"
    },
    {
     "data": {
      "text/plain": [
       "<ggplot: (158056749337)>"
      ]
     },
     "execution_count": 160,
     "metadata": {},
     "output_type": "execute_result"
    }
   ],
   "source": [
    "diff_by_variables(train, 'Pclass', 'Sex') #let's plot"
   ]
  },
  {
   "cell_type": "markdown",
   "id": "871c4b5e",
   "metadata": {},
   "source": [
    "Indeed, depending on gender, there is an evidence to suspect different effect of passenger class on survival. In every class, of the passenger is a woman, the chances of survival are much higher. I will include this interaction in my model."
   ]
  },
  {
   "cell_type": "code",
   "execution_count": null,
   "id": "93cd795d",
   "metadata": {},
   "outputs": [],
   "source": []
  },
  {
   "cell_type": "code",
   "execution_count": null,
   "id": "b35b8d57",
   "metadata": {},
   "outputs": [],
   "source": []
  }
 ],
 "metadata": {
  "kernelspec": {
   "display_name": "Python 3 (ipykernel)",
   "language": "python",
   "name": "python3"
  },
  "language_info": {
   "codemirror_mode": {
    "name": "ipython",
    "version": 3
   },
   "file_extension": ".py",
   "mimetype": "text/x-python",
   "name": "python",
   "nbconvert_exporter": "python",
   "pygments_lexer": "ipython3",
   "version": "3.9.7"
  }
 },
 "nbformat": 4,
 "nbformat_minor": 5
}
