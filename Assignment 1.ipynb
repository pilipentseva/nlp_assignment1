{
 "cells": [
  {
   "cell_type": "markdown",
   "id": "e11fb835",
   "metadata": {},
   "source": [
    "# Assignment 1"
   ]
  },
  {
   "cell_type": "markdown",
   "id": "b7b2fbac",
   "metadata": {},
   "source": [
    "That is the first group assignment for NLP course at CEU. This Assignment is based on the Titanic dataset and lecture notes of the course."
   ]
  },
  {
   "cell_type": "code",
   "execution_count": 99,
   "id": "d5811254",
   "metadata": {},
   "outputs": [],
   "source": [
    "#Import the needed libraries\n",
    "import pandas as pd\n",
    "import numpy as np\n",
    "import matplotlib.pyplot as plt\n",
    "import seaborn as sns\n",
    "from sklearn.model_selection import train_test_split\n",
    "from sklearn.linear_model import LinearRegression, Ridge, Lasso\n",
    "from sklearn import preprocessing\n",
    "import os\n",
    "import seaborn as sns"
   ]
  },
  {
   "cell_type": "code",
   "execution_count": 100,
   "id": "b9685c10",
   "metadata": {},
   "outputs": [],
   "source": [
    "#Data set already divided in train and test, import both of them\n",
    "train = pd.read_csv('train.csv')\n",
    "test = pd.read_csv('test.csv')"
   ]
  },
  {
   "cell_type": "code",
   "execution_count": 101,
   "id": "2f9fed7f",
   "metadata": {},
   "outputs": [
    {
     "data": {
      "text/plain": [
       "Index(['PassengerId', 'Survived', 'Pclass', 'Name', 'Sex', 'Age', 'SibSp',\n",
       "       'Parch', 'Ticket', 'Fare', 'Cabin', 'Embarked'],\n",
       "      dtype='object')"
      ]
     },
     "execution_count": 101,
     "metadata": {},
     "output_type": "execute_result"
    }
   ],
   "source": [
    "#look which variables I already have\n",
    "train.columns"
   ]
  },
  {
   "cell_type": "markdown",
   "id": "581de66d",
   "metadata": {},
   "source": [
    "# 1. Engineer at least two more features to include in your model . For each feature perform visualizations and interpret them"
   ]
  },
  {
   "cell_type": "markdown",
   "id": "941fff77",
   "metadata": {},
   "source": [
    "I decided to genereate the following features: title and variable which will describe whether person was alone or not."
   ]
  },
  {
   "cell_type": "markdown",
   "id": "e94380a0",
   "metadata": {},
   "source": [
    "# Title"
   ]
  },
  {
   "cell_type": "markdown",
   "id": "4765a6cd",
   "metadata": {},
   "source": [
    "Title can be extracted from the Name column. Title may be important. For example, it can provide information wether a person is married or not and as a result has a higher social status."
   ]
  },
  {
   "cell_type": "code",
   "execution_count": 102,
   "id": "f661b54f",
   "metadata": {},
   "outputs": [
    {
     "data": {
      "text/plain": [
       "0                                Braund, Mr. Owen Harris\n",
       "1      Cumings, Mrs. John Bradley (Florence Briggs Th...\n",
       "2                                 Heikkinen, Miss. Laina\n",
       "3           Futrelle, Mrs. Jacques Heath (Lily May Peel)\n",
       "4                               Allen, Mr. William Henry\n",
       "                             ...                        \n",
       "886                                Montvila, Rev. Juozas\n",
       "887                         Graham, Miss. Margaret Edith\n",
       "888             Johnston, Miss. Catherine Helen \"Carrie\"\n",
       "889                                Behr, Mr. Karl Howell\n",
       "890                                  Dooley, Mr. Patrick\n",
       "Name: Name, Length: 891, dtype: object"
      ]
     },
     "execution_count": 102,
     "metadata": {},
     "output_type": "execute_result"
    }
   ],
   "source": [
    "train.Name #look how this column Name looks like"
   ]
  },
  {
   "cell_type": "markdown",
   "id": "b604777b",
   "metadata": {},
   "source": [
    "From the example above I can see that in Name column first goes the name, after which there is a \",\" sign. Then I want to split every value by \",\" and take the second value (fist in Python). Then I use the fact that titles are separated by the dot after - I will utilize it to extact titles by splitting by \".\" and taking the first (zero in Python) value. And I will use strip () to remove all the the leading and trailing spaces from a string.."
   ]
  },
  {
   "cell_type": "code",
   "execution_count": 103,
   "id": "4489b1b9",
   "metadata": {},
   "outputs": [],
   "source": [
    "train['Title'] = train.Name.apply(lambda x: x.split(',')[1].split('.')[0].strip())\n",
    "test['Title'] = test.Name.apply(lambda x: x.split(',')[1].split('.')[0].strip()) # I do feature engineering for both parts of dataset"
   ]
  },
  {
   "cell_type": "code",
   "execution_count": 104,
   "id": "80d1828e",
   "metadata": {
    "scrolled": true
   },
   "outputs": [
    {
     "data": {
      "text/plain": [
       "0        Mr\n",
       "1       Mrs\n",
       "2      Miss\n",
       "3       Mrs\n",
       "4        Mr\n",
       "       ... \n",
       "886     Rev\n",
       "887    Miss\n",
       "888    Miss\n",
       "889      Mr\n",
       "890      Mr\n",
       "Name: Title, Length: 891, dtype: object"
      ]
     },
     "execution_count": 104,
     "metadata": {},
     "output_type": "execute_result"
    }
   ],
   "source": [
    "train['Title']"
   ]
  },
  {
   "cell_type": "code",
   "execution_count": 105,
   "id": "d0676ed0",
   "metadata": {},
   "outputs": [
    {
     "data": {
      "text/plain": [
       "count     891\n",
       "unique     17\n",
       "top        Mr\n",
       "freq      517\n",
       "Name: Title, dtype: object"
      ]
     },
     "execution_count": 105,
     "metadata": {},
     "output_type": "execute_result"
    }
   ],
   "source": [
    "train['Title'].describe()"
   ]
  },
  {
   "cell_type": "code",
   "execution_count": 106,
   "id": "8c72f6d4",
   "metadata": {},
   "outputs": [
    {
     "data": {
      "text/plain": [
       "array(['Mr', 'Mrs', 'Miss', 'Master', 'Don', 'Rev', 'Dr', 'Mme', 'Ms',\n",
       "       'Major', 'Lady', 'Sir', 'Mlle', 'Col', 'Capt', 'the Countess',\n",
       "       'Jonkheer'], dtype=object)"
      ]
     },
     "execution_count": 106,
     "metadata": {},
     "output_type": "execute_result"
    }
   ],
   "source": [
    "train['Title'].unique() #check wether all titles extracted are indeed titles - looks like"
   ]
  },
  {
   "cell_type": "code",
   "execution_count": 107,
   "id": "68d7cc11",
   "metadata": {},
   "outputs": [
    {
     "data": {
      "text/plain": [
       "array(['Mr', 'Mrs', 'Miss', 'Master', 'Ms', 'Col', 'Rev', 'Dr', 'Dona'],\n",
       "      dtype=object)"
      ]
     },
     "execution_count": 107,
     "metadata": {},
     "output_type": "execute_result"
    }
   ],
   "source": [
    "test['Title'].unique() #check for test as well just in case some titles got missed during the split"
   ]
  },
  {
   "cell_type": "code",
   "execution_count": 108,
   "id": "b199d12d",
   "metadata": {},
   "outputs": [
    {
     "data": {
      "text/plain": [
       "<AxesSubplot:xlabel='Title', ylabel='count'>"
      ]
     },
     "execution_count": 108,
     "metadata": {},
     "output_type": "execute_result"
    },
    {
     "data": {
      "image/png": "[encoded data removed]",
      "text/plain": [
       "<Figure size 432x288 with 1 Axes>"
      ]
     },
     "metadata": {
      "needs_background": "light"
     },
     "output_type": "display_data"
    }
   ],
   "source": [
    "#Now let's look at count plot of Title column\n",
    "sns.countplot(x ='Title', data=train)\n"
   ]
  },
  {
   "cell_type": "markdown",
   "id": "5332fad1",
   "metadata": {},
   "source": [
    "As I can see, some titles are much more often to see. So, it makes sense to group some titles together. "
   ]
  },
  {
   "cell_type": "code",
   "execution_count": 109,
   "id": "776e3c58",
   "metadata": {},
   "outputs": [],
   "source": [
    "train['Title'] = train['Title'].replace(['Lady', 'the Countess','Capt', 'Col','Don', 'Dr', 'Major', 'Rev', 'Sir', 'Jonkheer', 'Dona'], 'Rare')\n",
    "train['Title'] = train['Title'].replace('Mlle', 'Miss')\n",
    "train['Title'] = train['Title'].replace('Ms', 'Miss')\n",
    "train['Title'] = train['Title'].replace('Mme', 'Mrs')\n",
    "    \n"
   ]
  },
  {
   "cell_type": "code",
   "execution_count": 110,
   "id": "4ee4d6e2",
   "metadata": {
    "scrolled": true
   },
   "outputs": [
    {
     "data": {
      "text/plain": [
       "<AxesSubplot:xlabel='Title', ylabel='count'>"
      ]
     },
     "execution_count": 110,
     "metadata": {},
     "output_type": "execute_result"
    },
    {
     "data": {
      "image/png": "[encoded data removed]",
      "text/plain": [
       "<Figure size 432x288 with 1 Axes>"
      ]
     },
     "metadata": {
      "needs_background": "light"
     },
     "output_type": "display_data"
    }
   ],
   "source": [
    "#Let's look at countplot again\n",
    "sns.countplot(x ='Title', data=train)"
   ]
  },
  {
   "cell_type": "markdown",
   "id": "99e7e81c",
   "metadata": {},
   "source": [
    "As I can see, Mr is still the most common title. Rare titles even combined for a small proportion of the titles present on board"
   ]
  },
  {
   "cell_type": "code",
   "execution_count": 111,
   "id": "a4f70e9f",
   "metadata": {},
   "outputs": [
    {
     "data": {
      "text/html": [
       "<div>\n",
       "<style scoped>\n",
       "    .dataframe tbody tr th:only-of-type {\n",
       "        vertical-align: middle;\n",
       "    }\n",
       "\n",
       "    .dataframe tbody tr th {\n",
       "        vertical-align: top;\n",
       "    }\n",
       "\n",
       "    .dataframe thead th {\n",
       "        text-align: right;\n",
       "    }\n",
       "</style>\n",
       "<table border=\"1\" class=\"dataframe\">\n",
       "  <thead>\n",
       "    <tr style=\"text-align: right;\">\n",
       "      <th></th>\n",
       "      <th>count</th>\n",
       "      <th>mean</th>\n",
       "      <th>std</th>\n",
       "      <th>min</th>\n",
       "      <th>25%</th>\n",
       "      <th>50%</th>\n",
       "      <th>75%</th>\n",
       "      <th>max</th>\n",
       "    </tr>\n",
       "    <tr>\n",
       "      <th>Title</th>\n",
       "      <th></th>\n",
       "      <th></th>\n",
       "      <th></th>\n",
       "      <th></th>\n",
       "      <th></th>\n",
       "      <th></th>\n",
       "      <th></th>\n",
       "      <th></th>\n",
       "    </tr>\n",
       "  </thead>\n",
       "  <tbody>\n",
       "    <tr>\n",
       "      <th>Master</th>\n",
       "      <td>40.0</td>\n",
       "      <td>0.575000</td>\n",
       "      <td>0.500641</td>\n",
       "      <td>0.0</td>\n",
       "      <td>0.0</td>\n",
       "      <td>1.0</td>\n",
       "      <td>1.0</td>\n",
       "      <td>1.0</td>\n",
       "    </tr>\n",
       "    <tr>\n",
       "      <th>Miss</th>\n",
       "      <td>185.0</td>\n",
       "      <td>0.702703</td>\n",
       "      <td>0.458309</td>\n",
       "      <td>0.0</td>\n",
       "      <td>0.0</td>\n",
       "      <td>1.0</td>\n",
       "      <td>1.0</td>\n",
       "      <td>1.0</td>\n",
       "    </tr>\n",
       "    <tr>\n",
       "      <th>Mr</th>\n",
       "      <td>517.0</td>\n",
       "      <td>0.156673</td>\n",
       "      <td>0.363844</td>\n",
       "      <td>0.0</td>\n",
       "      <td>0.0</td>\n",
       "      <td>0.0</td>\n",
       "      <td>0.0</td>\n",
       "      <td>1.0</td>\n",
       "    </tr>\n",
       "    <tr>\n",
       "      <th>Mrs</th>\n",
       "      <td>126.0</td>\n",
       "      <td>0.793651</td>\n",
       "      <td>0.406300</td>\n",
       "      <td>0.0</td>\n",
       "      <td>1.0</td>\n",
       "      <td>1.0</td>\n",
       "      <td>1.0</td>\n",
       "      <td>1.0</td>\n",
       "    </tr>\n",
       "    <tr>\n",
       "      <th>Rare</th>\n",
       "      <td>23.0</td>\n",
       "      <td>0.347826</td>\n",
       "      <td>0.486985</td>\n",
       "      <td>0.0</td>\n",
       "      <td>0.0</td>\n",
       "      <td>0.0</td>\n",
       "      <td>1.0</td>\n",
       "      <td>1.0</td>\n",
       "    </tr>\n",
       "  </tbody>\n",
       "</table>\n",
       "</div>"
      ],
      "text/plain": [
       "        count      mean       std  min  25%  50%  75%  max\n",
       "Title                                                     \n",
       "Master   40.0  0.575000  0.500641  0.0  0.0  1.0  1.0  1.0\n",
       "Miss    185.0  0.702703  0.458309  0.0  0.0  1.0  1.0  1.0\n",
       "Mr      517.0  0.156673  0.363844  0.0  0.0  0.0  0.0  1.0\n",
       "Mrs     126.0  0.793651  0.406300  0.0  1.0  1.0  1.0  1.0\n",
       "Rare     23.0  0.347826  0.486985  0.0  0.0  0.0  1.0  1.0"
      ]
     },
     "execution_count": 111,
     "metadata": {},
     "output_type": "execute_result"
    }
   ],
   "source": [
    "# I also want to look at survival rate by titles\n",
    "# Survival rate by title group\n",
    "train.groupby(['Title'])['Survived'].describe()"
   ]
  },
  {
   "cell_type": "markdown",
   "id": "5012b3b3",
   "metadata": {},
   "source": [
    "From the table enough I can say that titles Miss and Mrs were more likely to survive (which is not suprising since they are women). Mr has the lowest chance. And Rare titles also had a law probability to survive"
   ]
  },
  {
   "cell_type": "markdown",
   "id": "eb24586e",
   "metadata": {},
   "source": [
    "# Family Size and Is Alone"
   ]
  },
  {
   "cell_type": "markdown",
   "id": "fbdb503b",
   "metadata": {},
   "source": [
    "Variable wether the person is alone might be important because perhaps it allowed the passenger to fastly be evacuated because he didn't need to look for his family friends or family and just proceeded to evacuation. To obtain this variable, we first need to create family size variable which is obtained from siblings + spouse variable (SibSp) and parents + children variable (Parch)"
   ]
  },
  {
   "cell_type": "code",
   "execution_count": 118,
   "id": "4f8a2218",
   "metadata": {},
   "outputs": [],
   "source": [
    "#Generate variable family size\n",
    "train['FamilySize'] = train['SibSp'] + train['Parch'] + 1 #i add 1 because i need to count person for whom I calculate as well\n",
    "test['FamilySize'] = test['SibSp'] + test['Parch'] + 1 #do it for test as well"
   ]
  },
  {
   "cell_type": "code",
   "execution_count": 119,
   "id": "733fde11",
   "metadata": {},
   "outputs": [
    {
     "data": {
      "text/plain": [
       "<AxesSubplot:xlabel='FamilySize', ylabel='count'>"
      ]
     },
     "execution_count": 119,
     "metadata": {},
     "output_type": "execute_result"
    },
    {
     "data": {
      "image/png": "[encoded data removed]",
      "text/plain": [
       "<Figure size 432x288 with 1 Axes>"
      ]
     },
     "metadata": {
      "needs_background": "light"
     },
     "output_type": "display_data"
    }
   ],
   "source": [
    "#let's built countplot for this variable\n",
    "sns.countplot(x = 'FamilySize', data = train)"
   ]
  },
  {
   "cell_type": "markdown",
   "id": "829b057c",
   "metadata": {},
   "source": [
    "As we can, see it was most common to be alone. Then we have a high frequency of people whose family size on board is 2-3 and then for other size of family size the frequency is guite low\n"
   ]
  },
  {
   "cell_type": "code",
   "execution_count": 121,
   "id": "638bcd8d",
   "metadata": {
    "scrolled": true
   },
   "outputs": [
    {
     "data": {
      "text/html": [
       "<div>\n",
       "<style scoped>\n",
       "    .dataframe tbody tr th:only-of-type {\n",
       "        vertical-align: middle;\n",
       "    }\n",
       "\n",
       "    .dataframe tbody tr th {\n",
       "        vertical-align: top;\n",
       "    }\n",
       "\n",
       "    .dataframe thead th {\n",
       "        text-align: right;\n",
       "    }\n",
       "</style>\n",
       "<table border=\"1\" class=\"dataframe\">\n",
       "  <thead>\n",
       "    <tr style=\"text-align: right;\">\n",
       "      <th></th>\n",
       "      <th>FamilySize</th>\n",
       "      <th>Survived</th>\n",
       "    </tr>\n",
       "  </thead>\n",
       "  <tbody>\n",
       "    <tr>\n",
       "      <th>3</th>\n",
       "      <td>4</td>\n",
       "      <td>0.724138</td>\n",
       "    </tr>\n",
       "    <tr>\n",
       "      <th>2</th>\n",
       "      <td>3</td>\n",
       "      <td>0.578431</td>\n",
       "    </tr>\n",
       "    <tr>\n",
       "      <th>1</th>\n",
       "      <td>2</td>\n",
       "      <td>0.552795</td>\n",
       "    </tr>\n",
       "    <tr>\n",
       "      <th>6</th>\n",
       "      <td>7</td>\n",
       "      <td>0.333333</td>\n",
       "    </tr>\n",
       "    <tr>\n",
       "      <th>0</th>\n",
       "      <td>1</td>\n",
       "      <td>0.303538</td>\n",
       "    </tr>\n",
       "    <tr>\n",
       "      <th>4</th>\n",
       "      <td>5</td>\n",
       "      <td>0.200000</td>\n",
       "    </tr>\n",
       "    <tr>\n",
       "      <th>5</th>\n",
       "      <td>6</td>\n",
       "      <td>0.136364</td>\n",
       "    </tr>\n",
       "    <tr>\n",
       "      <th>7</th>\n",
       "      <td>8</td>\n",
       "      <td>0.000000</td>\n",
       "    </tr>\n",
       "    <tr>\n",
       "      <th>8</th>\n",
       "      <td>11</td>\n",
       "      <td>0.000000</td>\n",
       "    </tr>\n",
       "  </tbody>\n",
       "</table>\n",
       "</div>"
      ],
      "text/plain": [
       "   FamilySize  Survived\n",
       "3           4  0.724138\n",
       "2           3  0.578431\n",
       "1           2  0.552795\n",
       "6           7  0.333333\n",
       "0           1  0.303538\n",
       "4           5  0.200000\n",
       "5           6  0.136364\n",
       "7           8  0.000000\n",
       "8          11  0.000000"
      ]
     },
     "execution_count": 121,
     "metadata": {},
     "output_type": "execute_result"
    }
   ],
   "source": [
    "#How survival looks for different family sizes\n",
    "train[['FamilySize', 'Survived']].groupby(['FamilySize'], as_index=False).mean().sort_values(by='Survived', ascending=False)\n"
   ]
  },
  {
   "cell_type": "markdown",
   "id": "012ca77d",
   "metadata": {},
   "source": [
    "Surprisingly, among those who had a family size of 2-4 the chances to survive were higher. Perhaps it is because those families could afford to buy tickets for family members and were wealthier. Why then with number of family size of 5 and more chances of survival got lower? Perhaps 2-4 family members is also an indicator of middle and upper class. While 5 and more family size shows poorer families."
   ]
  },
  {
   "cell_type": "code",
   "execution_count": 136,
   "id": "efa2f65f",
   "metadata": {},
   "outputs": [],
   "source": [
    "#Now let's create IsAlone variable if person was on Titanic without family members\n",
    "train['IsAlone'] = 0\n",
    "train.loc[train['FamilySize'] == 1, 'IsAlone'] = 1\n",
    "test['IsAlone'] = 0 #same for test\n",
    "test.loc[train['FamilySize'] == 1, 'IsAlone'] = 1\n"
   ]
  },
  {
   "cell_type": "code",
   "execution_count": 140,
   "id": "1d65995b",
   "metadata": {
    "scrolled": true
   },
   "outputs": [
    {
     "data": {
      "text/plain": [
       "<AxesSubplot:xlabel='IsAlone', ylabel='count'>"
      ]
     },
     "execution_count": 140,
     "metadata": {},
     "output_type": "execute_result"
    },
    {
     "data": {
      "image/png": "[encoded data removed]",
      "text/plain": [
       "<Figure size 432x288 with 1 Axes>"
      ]
     },
     "metadata": {
      "needs_background": "light"
     },
     "output_type": "display_data"
    }
   ],
   "source": [
    "#Let's look at countplot\n",
    "sns.countplot(x = 'IsAlone', data = train)"
   ]
  },
  {
   "cell_type": "markdown",
   "id": "1b0380b8",
   "metadata": {},
   "source": [
    "There are more people who were on Titanic alone"
   ]
  },
  {
   "cell_type": "code",
   "execution_count": 141,
   "id": "2e80324b",
   "metadata": {
    "scrolled": true
   },
   "outputs": [
    {
     "data": {
      "text/html": [
       "<div>\n",
       "<style scoped>\n",
       "    .dataframe tbody tr th:only-of-type {\n",
       "        vertical-align: middle;\n",
       "    }\n",
       "\n",
       "    .dataframe tbody tr th {\n",
       "        vertical-align: top;\n",
       "    }\n",
       "\n",
       "    .dataframe thead th {\n",
       "        text-align: right;\n",
       "    }\n",
       "</style>\n",
       "<table border=\"1\" class=\"dataframe\">\n",
       "  <thead>\n",
       "    <tr style=\"text-align: right;\">\n",
       "      <th></th>\n",
       "      <th>IsAlone</th>\n",
       "      <th>Survived</th>\n",
       "    </tr>\n",
       "  </thead>\n",
       "  <tbody>\n",
       "    <tr>\n",
       "      <th>0</th>\n",
       "      <td>0</td>\n",
       "      <td>0.505650</td>\n",
       "    </tr>\n",
       "    <tr>\n",
       "      <th>1</th>\n",
       "      <td>1</td>\n",
       "      <td>0.303538</td>\n",
       "    </tr>\n",
       "  </tbody>\n",
       "</table>\n",
       "</div>"
      ],
      "text/plain": [
       "   IsAlone  Survived\n",
       "0        0  0.505650\n",
       "1        1  0.303538"
      ]
     },
     "execution_count": 141,
     "metadata": {},
     "output_type": "execute_result"
    }
   ],
   "source": [
    "#Let's look at survival rate\n",
    "train[['IsAlone', 'Survived']].groupby(['IsAlone'], as_index=False).mean()"
   ]
  },
  {
   "cell_type": "markdown",
   "id": "8cc1582c",
   "metadata": {},
   "source": [
    "Indeed, for a person who is alone, the survival chances are higher"
   ]
  },
  {
   "cell_type": "markdown",
   "id": "4aea34fd",
   "metadata": {},
   "source": [
    "# 2. Can you think of possible interactions and polynomials potentially relevant for your model? If yes, do so"
   ]
  },
  {
   "cell_type": "code",
   "execution_count": 127,
   "id": "1846f103",
   "metadata": {},
   "outputs": [
    {
     "data": {
      "text/plain": [
       "Index(['PassengerId', 'Survived', 'Pclass', 'Name', 'Sex', 'Age', 'SibSp',\n",
       "       'Parch', 'Ticket', 'Fare', 'Cabin', 'Embarked', 'Title', 'FamilySize'],\n",
       "      dtype='object')"
      ]
     },
     "execution_count": 127,
     "metadata": {},
     "output_type": "execute_result"
    }
   ],
   "source": [
    "train.columns"
   ]
  },
  {
   "cell_type": "code",
   "execution_count": 139,
   "id": "e07952d5",
   "metadata": {},
   "outputs": [
    {
     "data": {
      "image/png": "[encoded data removed]",
      "text/plain": [
       "<Figure size 740.538x523.44 with 1 Axes>"
      ]
     },
     "metadata": {
      "needs_background": "light"
     },
     "output_type": "display_data"
    }
   ],
   "source": [
    "sns.lmplot(y = \"Survived\", x= \"Age\", data = train, height=7.27, aspect=11.7/8.27)\n",
    "ax = plt.gca()\n",
    "ax.set_title(\"Predicting Fare from Age + Age*Sex\")\n",
    "plt.show()"
   ]
  },
  {
   "cell_type": "markdown",
   "id": "7c436596",
   "metadata": {},
   "source": [
    "Potential interactions:\n",
    "1) sex and age\n",
    "2) age and class\n",
    "3"
   ]
  },
  {
   "cell_type": "code",
   "execution_count": null,
   "id": "b6457b0e",
   "metadata": {},
   "outputs": [],
   "source": []
  }
 ],
 "metadata": {
  "kernelspec": {
   "display_name": "Python 3 (ipykernel)",
   "language": "python",
   "name": "python3"
  },
  "language_info": {
   "codemirror_mode": {
    "name": "ipython",
    "version": 3
   },
   "file_extension": ".py",
   "mimetype": "text/x-python",
   "name": "python",
   "nbconvert_exporter": "python",
   "pygments_lexer": "ipython3",
   "version": "3.9.7"
  }
 },
 "nbformat": 4,
 "nbformat_minor": 5
}
